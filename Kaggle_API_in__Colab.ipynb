{
  "nbformat": 4,
  "nbformat_minor": 0,
  "metadata": {
    "colab": {
      "name": "Kaggle_API_in _Colab.ipynb",
      "provenance": []
    },
    "kernelspec": {
      "name": "python3",
      "display_name": "Python 3"
    }
  },
  "cells": [
    {
      "cell_type": "markdown",
      "metadata": {
        "id": "bbijkNIrpwjj",
        "colab_type": "text"
      },
      "source": [
        "# Install Kaggle in Goolge Colab "
      ]
    },
    {
      "cell_type": "code",
      "metadata": {
        "id": "zWtr3hI3pYkj",
        "colab_type": "code",
        "colab": {}
      },
      "source": [
        "! pip install -q kaggle"
      ],
      "execution_count": null,
      "outputs": []
    },
    {
      "cell_type": "markdown",
      "metadata": {
        "id": "KZsWruyGqAZ3",
        "colab_type": "text"
      },
      "source": [
        "# Download JSON file from kaggle\n",
        "My Account > API > Create New API Token"
      ]
    },
    {
      "cell_type": "markdown",
      "metadata": {
        "id": "DraqqcLerWYo",
        "colab_type": "text"
      },
      "source": [
        "# Upload JSON file \n"
      ]
    },
    {
      "cell_type": "code",
      "metadata": {
        "id": "yVdQCx0ep77z",
        "colab_type": "code",
        "colab": {}
      },
      "source": [
        "from google.colab import files \n",
        "files.upload()"
      ],
      "execution_count": null,
      "outputs": []
    },
    {
      "cell_type": "markdown",
      "metadata": {
        "id": "OE98x9jurakY",
        "colab_type": "text"
      },
      "source": [
        "# Make Directory"
      ]
    },
    {
      "cell_type": "code",
      "metadata": {
        "id": "gXSt3_7hrqnj",
        "colab_type": "code",
        "colab": {}
      },
      "source": [
        " ! mkdir ~/.kaggle"
      ],
      "execution_count": null,
      "outputs": []
    },
    {
      "cell_type": "markdown",
      "metadata": {
        "id": "9DfDWCL0rr1F",
        "colab_type": "text"
      },
      "source": [
        "# Copy JSON file in that directory"
      ]
    },
    {
      "cell_type": "code",
      "metadata": {
        "id": "ppJCBFHer0dW",
        "colab_type": "code",
        "colab": {}
      },
      "source": [
        "! cp kaggle.json ~/.kaggle/"
      ],
      "execution_count": null,
      "outputs": []
    },
    {
      "cell_type": "markdown",
      "metadata": {
        "id": "P3pK_puIr4fd",
        "colab_type": "text"
      },
      "source": [
        "# Give Permission to them \n"
      ]
    },
    {
      "cell_type": "code",
      "metadata": {
        "id": "3Wa6NLobsHjr",
        "colab_type": "code",
        "colab": {}
      },
      "source": [
        "! chmod 600 ~/.kaggle/kaggle.json"
      ],
      "execution_count": null,
      "outputs": []
    },
    {
      "cell_type": "markdown",
      "metadata": {
        "id": "5zr0j2mlsiSB",
        "colab_type": "text"
      },
      "source": [
        "# Kaggle Datasets list"
      ]
    },
    {
      "cell_type": "code",
      "metadata": {
        "id": "nCVdpInjsIZy",
        "colab_type": "code",
        "colab": {}
      },
      "source": [
        " ! kaggle datasets list"
      ],
      "execution_count": null,
      "outputs": []
    },
    {
      "cell_type": "markdown",
      "metadata": {
        "id": "Kku9iYx3tFNK",
        "colab_type": "text"
      },
      "source": [
        "# Download perticular datasets in google colab"
      ]
    },
    {
      "cell_type": "code",
      "metadata": {
        "id": "c6tqGmUDtEJ9",
        "colab_type": "code",
        "colab": {}
      },
      "source": [
        "! kaggle competitions download -c <name_of_dataset>"
      ],
      "execution_count": null,
      "outputs": []
    },
    {
      "cell_type": "markdown",
      "metadata": {
        "id": "oepQl3hStrcA",
        "colab_type": "text"
      },
      "source": [
        "# Make dir for unzip our downloaded dataset in that dir  \n",
        "## Ex\n",
        "! mkdir train\n",
        "! unzip train.zip -d train"
      ]
    }
  ]
}